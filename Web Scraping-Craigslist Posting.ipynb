{
 "cells": [
  {
   "cell_type": "code",
   "execution_count": null,
   "id": "62d6a326",
   "metadata": {},
   "outputs": [],
   "source": [
    "import pandas as pd\n",
    "import bs4 as bs \n",
    "#import BeautifulSoup as bs\n",
    "%pylab inline\n",
    "import requests\n",
    "import numpy as np\n",
    "from selenium import webdriver\n",
    "from bs4 import BeautifulSoup"
   ]
  },
  {
   "cell_type": "code",
   "execution_count": null,
   "id": "d8727620",
   "metadata": {},
   "outputs": [],
   "source": [
    "import requests\n",
    "import random\n",
    "\n",
    "headers_list = [\n",
    "    # Firefox 77 Mac\n",
    "    {\n",
    "    \"User-Agent\": \"Mozilla/5.0 (Macintosh; Intel Mac OS X 10.15; rv:77.0) Gecko/20100101 Firefox/77.0\",\n",
    "    \"Accept\": \"text/html,application/xhtml+xml,application/xml;q=0.9,image/webp,/;q=0.8\",\n",
    "    \"Accept-Language\": \"en-US,en;q=0.5\",\n",
    "    \"Referer\": \"https://www.google.com/\",\n",
    "    \"DNT\": \"1\",\n",
    "    \"Connection\": \"keep-alive\",\n",
    "    \"Upgrade-Insecure-Requests\": \"1\"\n",
    "    },\n",
    "    # Chrome 92.0 Win10\n",
    "    {\n",
    "    \"User-Agent\": \"Mozilla/5.0 (Windows NT 10.0; Win64; x64) AppleWebKit/537.36 (KHTML, like Gecko) Chrome/92.0.4515.107 Safari/537.36\",\n",
    "    \"Accept\": \"text/html,application/xhtml+xml,application/xml;q=0.9,image/webp,/;q=0.8\",\n",
    "    \"Accept-Language\": \"en-US,en;q=0.5\",\n",
    "    \"Accept-Encoding\": \"gzip, deflate, br\",\n",
    "    \"Referer\": \"https://www.google.com/\",\n",
    "    \"DNT\": \"1\",\n",
    "    \"Connection\": \"keep-alive\",\n",
    "    \"Upgrade-Insecure-Requests\": \"1\"\n",
    "    },\n",
    "    # Chrome 91.0 Win10\n",
    "    {\n",
    "    \"Connection\": \"keep-alive\",\n",
    "    \"DNT\": \"1\",\n",
    "    \"Upgrade-Insecure-Requests\": \"1\",\n",
    "    \"User-Agent\": \"Mozilla/5.0 (Windows NT 10.0; Win64; x64) AppleWebKit/537.36 (KHTML, like Gecko) Chrome/91.0.4472.124 Safari/537.36\",\n",
    "    \"Accept\": \"text/html,application/xhtml+xml,application/xml;q=0.9,image/webp,image/apng,/;q=0.8,application/signed-exchange;v=b3;q=0.9\",\n",
    "    \"Sec-Fetch-Site\": \"none\",\n",
    "    \"Sec-Fetch-Mode\": \"navigate\",\n",
    "    \"Sec-Fetch-Dest\": \"document\",\n",
    "    \"Referer\": \"https://www.google.com/\",\n",
    "    \"Accept-Encoding\": \"gzip, deflate, br\",\n",
    "    \"Accept-Language\": \"en-GB,en-US;q=0.9,en;q=0.8\"\n",
    "    },\n",
    "    # Firefox 90.0 Win10\n",
    "    {\n",
    "    \"Connection\": \"keep-alive\",\n",
    "    \"Upgrade-Insecure-Requests\": \"1\",\n",
    "    \"User-Agent\": \"Mozilla/5.0 (Windows NT 10.0; Win64; x64; rv:90.0) Gecko/20100101 Firefox/90.0\",\n",
    "    \"Accept\": \"text/html,application/xhtml+xml,application/xml;q=0.9,image/webp,image/apng,/;q=0.8,application/signed-exchange;v=b3;q=0.9\",\n",
    "    \"Sec-Fetch-Site\": \"same-origin\",\n",
    "    \"Sec-Fetch-Mode\": \"navigate\",\n",
    "    \"Sec-Fetch-User\": \"?1\",\n",
    "    \"Sec-Fetch-Dest\": \"document\",\n",
    "    \"Referer\": \"https://www.google.com/\",\n",
    "    \"Accept-Encoding\": \"gzip, deflate, br\",\n",
    "    \"Accept-Language\": \"en-US,en;q=0.9\"\n",
    "    }\n",
    "]"
   ]
  },
  {
   "cell_type": "code",
   "execution_count": null,
   "id": "54282d5b",
   "metadata": {
    "scrolled": true
   },
   "outputs": [],
   "source": [
    "city_list = city_list = ['dallas', \"houston\", \"chicago\", \"phoenix\", \"newyork\", \"philadelphia\", \"sandiego\",\"losangeles\", \"sanantonio\", \"sfbay\"]\n",
    "links = []\n",
    "for city in city_list:\n",
    "    for i in range(1,6):\n",
    "        url = f\"https://{city}.craigslist.org/search/ppa#search=1~gallery~\"+str(i)+\"~0\"\n",
    "        browser = webdriver.Chrome('chromedriver')\n",
    "        options = webdriver.ChromeOptions()\n",
    "        options.headless = True\n",
    "        options.add_argument('--enable-javascript')\n",
    "        options.add_argument(\"--headless\")\n",
    "        browser.get(url)\n",
    "        time.sleep(2)\n",
    "        html = browser.page_source\n",
    "        soup = BeautifulSoup(html, 'html.parser')\n",
    "        time.sleep(2)\n",
    "        #bsobj = soup(page.content,'lxml')\n",
    "        for link in soup.findAll(class_='titlestring'):\n",
    "            links.append(link.get('href'))\n",
    "        \n",
    "      "
   ]
  },
  {
   "cell_type": "code",
   "execution_count": null,
   "id": "5831eebc",
   "metadata": {},
   "outputs": [],
   "source": [
    "scraped_data = pd.DataFrame({'link':links})\n",
    "scraped_data.shape"
   ]
  },
  {
   "cell_type": "code",
   "execution_count": null,
   "id": "71402837",
   "metadata": {},
   "outputs": [],
   "source": [
    "scraped_data=scraped_data[['link']]"
   ]
  },
  {
   "cell_type": "code",
   "execution_count": null,
   "id": "9b04b8a6",
   "metadata": {},
   "outputs": [],
   "source": [
    "import numpy as np\n",
    "def get_listing_info(args):\n",
    "    time.sleep(np.random.uniform(1))\n",
    "    link = args[0]\n",
    "    listing_heading = 'NA'\n",
    "    listing_price = 'NA'\n",
    "    condition_val = 'NA'\n",
    "    description = 'NA'\n",
    "    make_val='NA'\n",
    "    headers=random.choice(headers_list)\n",
    "    r=requests.Session()\n",
    "    r.headers=headers\n",
    "    page = r.get(link)\n",
    "    bsobj = BeautifulSoup(page.content,'lxml')\n",
    "    for link in bsobj.findAll('h1',{'class':'postingtitle'}):\n",
    "        listing_heading = link.text\n",
    "        heading_split = listing_heading.split()\n",
    "        for tag in heading_split:\n",
    "        if tag.startswith('$') and tag[-1].isdigit():\n",
    "            listing_price = tag\n",
    "    for link in bsobj.findAll('p',{'class':'attrgroup'}):\n",
    "        temp_tag = link.text.split('\\n')\n",
    "        temp_tag = [val.strip() for val in temp_tag if val.startswith('condition')]\n",
    "        if len(temp_tag) > 0:\n",
    "        condition_val = temp_tag[0].split(':')[1].strip()\n",
    "    for i in bsobj.findAll('section',{'id':'postingbody'}):\n",
    "        description = i.text.strip().replace('QR Code Link to This Post','').replace('\\n','')\n",
    "    for link in bsobj.findAll('p',{'class':'attrgroup'}):\n",
    "        make_tag=link.text.split('\\n')\n",
    "        make_tag=[val.strip() for val in make_tag if val.startswith('make')]\n",
    "        if len(make_tag) > 0:\n",
    "            make_val = make_tag[0].split(':')[1].strip()\n",
    "    return pd.Series([listing_heading.strip(), description, listing_price, condition_val, make_val])"
   ]
  },
  {
   "cell_type": "code",
   "execution_count": null,
   "id": "2234f4da",
   "metadata": {},
   "outputs": [],
   "source": [
    "scraped_data[['Title', 'Description' ,'Price', 'Condition','Make']] = scraped_data.apply(get_listing_info, axis=1,  result_type='expand')\n",
    "scraped_data['Title'] = scraped_data['Title'].str.strip()\n",
    "\n",
    "\n"
   ]
  },
  {
   "cell_type": "code",
   "execution_count": null,
   "id": "790b158f",
   "metadata": {},
   "outputs": [],
   "source": [
    "finaldf.to_csv('Appliances_Postings_for_AUD.csv')"
   ]
  }
 ],
 "metadata": {
  "kernelspec": {
   "display_name": "Python 3 (ipykernel)",
   "language": "python",
   "name": "python3"
  },
  "language_info": {
   "codemirror_mode": {
    "name": "ipython",
    "version": 3
   },
   "file_extension": ".py",
   "mimetype": "text/x-python",
   "name": "python",
   "nbconvert_exporter": "python",
   "pygments_lexer": "ipython3",
   "version": "3.9.12"
  }
 },
 "nbformat": 4,
 "nbformat_minor": 5
}
