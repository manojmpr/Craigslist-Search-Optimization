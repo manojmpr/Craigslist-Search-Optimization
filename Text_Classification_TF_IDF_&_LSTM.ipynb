{
  "cells": [
    {
      "cell_type": "code",
      "execution_count": 2,
      "id": "3ffc7cb5",
      "metadata": {
        "id": "3ffc7cb5"
      },
      "outputs": [],
      "source": [
        "\n",
        "#loading the unprocessed data\n",
        "import pandas as pd\n",
        "import matplotlib.pyplot as plt\n",
        "import seaborn as sns\n",
        "import numpy as np\n",
        "import nltk\n",
        "from google.colab import drive\n",
        "from sklearn.feature_extraction.text import CountVectorizer, TfidfVectorizer\n",
        "from sklearn.pipeline import FeatureUnion\n",
        "import re\n",
        "import string\n",
        "from scipy.sparse import hstack, csr_matrix\n",
        "from sklearn.model_selection import train_test_split\n",
        "from sklearn.linear_model import RidgeClassifier\n",
        "from sklearn.metrics import accuracy_score\n",
        "from sklearn import model_selection, naive_bayes, svm\n",
        "from sklearn.naive_bayes import GaussianNB\n",
        "from sklearn.ensemble import RandomForestClassifier\n",
        "import os\n",
        "     "
      ]
    },
    {
      "cell_type": "code",
      "execution_count": 3,
      "id": "0b487ab2",
      "metadata": {
        "colab": {
          "base_uri": "https://localhost:8080/",
          "height": 206
        },
        "id": "0b487ab2",
        "outputId": "45c49968-283d-47c4-d6f1-5864ce2b8259"
      },
      "outputs": [
        {
          "output_type": "execute_result",
          "data": {
            "text/plain": [
              "   Posting ID                                               link  \\\n",
              "0           0  https://dallas.craigslist.org/ndf/app/75540765...   \n",
              "1           1  https://dallas.craigslist.org/ndf/app/75603287...   \n",
              "2           2  https://dallas.craigslist.org/ndf/app/75593750...   \n",
              "3           3  https://dallas.craigslist.org/ndf/app/75533342...   \n",
              "4           4  https://dallas.craigslist.org/ndf/app/75593744...   \n",
              "\n",
              "                                               Title  \\\n",
              "0  Frigidaire Black Built-in Oven - $249 (Pilot P...   \n",
              "1     Whirlpool Top load Washer - $249 (Pilot Point)   \n",
              "2     Maytag Top Loading Washer - $149 (Pilot Point)   \n",
              "3  Kenmore Stainless Steel Range - $400 (Pilot Po...   \n",
              "4  Whirlpool Black Side by Side Fridge - $449 (Pi...   \n",
              "\n",
              "                                         Description  Price Condition Make  \n",
              "0  Frigidaire Black Built-in Oven Excellent hardl...  249.0  like new  NaN  \n",
              "1  Whirlpool Top load WasherNot pretty but works ...  249.0  like new  NaN  \n",
              "2  Maytag Top Loading WasherA little older and no...  149.0  like new  NaN  \n",
              "3  Kenmore Stainless Steel RangeGently Used Condi...  400.0  like new  NaN  \n",
              "4  Whirlpool Black Side by Side Fridge!Excellent ...  449.0  like new  NaN  "
            ],
            "text/html": [
              "\n",
              "  <div id=\"df-8c43a0dc-e0f7-4962-8f75-09d57f7fa005\">\n",
              "    <div class=\"colab-df-container\">\n",
              "      <div>\n",
              "<style scoped>\n",
              "    .dataframe tbody tr th:only-of-type {\n",
              "        vertical-align: middle;\n",
              "    }\n",
              "\n",
              "    .dataframe tbody tr th {\n",
              "        vertical-align: top;\n",
              "    }\n",
              "\n",
              "    .dataframe thead th {\n",
              "        text-align: right;\n",
              "    }\n",
              "</style>\n",
              "<table border=\"1\" class=\"dataframe\">\n",
              "  <thead>\n",
              "    <tr style=\"text-align: right;\">\n",
              "      <th></th>\n",
              "      <th>Posting ID</th>\n",
              "      <th>link</th>\n",
              "      <th>Title</th>\n",
              "      <th>Description</th>\n",
              "      <th>Price</th>\n",
              "      <th>Condition</th>\n",
              "      <th>Make</th>\n",
              "    </tr>\n",
              "  </thead>\n",
              "  <tbody>\n",
              "    <tr>\n",
              "      <th>0</th>\n",
              "      <td>0</td>\n",
              "      <td>https://dallas.craigslist.org/ndf/app/75540765...</td>\n",
              "      <td>Frigidaire Black Built-in Oven - $249 (Pilot P...</td>\n",
              "      <td>Frigidaire Black Built-in Oven Excellent hardl...</td>\n",
              "      <td>249.0</td>\n",
              "      <td>like new</td>\n",
              "      <td>NaN</td>\n",
              "    </tr>\n",
              "    <tr>\n",
              "      <th>1</th>\n",
              "      <td>1</td>\n",
              "      <td>https://dallas.craigslist.org/ndf/app/75603287...</td>\n",
              "      <td>Whirlpool Top load Washer - $249 (Pilot Point)</td>\n",
              "      <td>Whirlpool Top load WasherNot pretty but works ...</td>\n",
              "      <td>249.0</td>\n",
              "      <td>like new</td>\n",
              "      <td>NaN</td>\n",
              "    </tr>\n",
              "    <tr>\n",
              "      <th>2</th>\n",
              "      <td>2</td>\n",
              "      <td>https://dallas.craigslist.org/ndf/app/75593750...</td>\n",
              "      <td>Maytag Top Loading Washer - $149 (Pilot Point)</td>\n",
              "      <td>Maytag Top Loading WasherA little older and no...</td>\n",
              "      <td>149.0</td>\n",
              "      <td>like new</td>\n",
              "      <td>NaN</td>\n",
              "    </tr>\n",
              "    <tr>\n",
              "      <th>3</th>\n",
              "      <td>3</td>\n",
              "      <td>https://dallas.craigslist.org/ndf/app/75533342...</td>\n",
              "      <td>Kenmore Stainless Steel Range - $400 (Pilot Po...</td>\n",
              "      <td>Kenmore Stainless Steel RangeGently Used Condi...</td>\n",
              "      <td>400.0</td>\n",
              "      <td>like new</td>\n",
              "      <td>NaN</td>\n",
              "    </tr>\n",
              "    <tr>\n",
              "      <th>4</th>\n",
              "      <td>4</td>\n",
              "      <td>https://dallas.craigslist.org/ndf/app/75593744...</td>\n",
              "      <td>Whirlpool Black Side by Side Fridge - $449 (Pi...</td>\n",
              "      <td>Whirlpool Black Side by Side Fridge!Excellent ...</td>\n",
              "      <td>449.0</td>\n",
              "      <td>like new</td>\n",
              "      <td>NaN</td>\n",
              "    </tr>\n",
              "  </tbody>\n",
              "</table>\n",
              "</div>\n",
              "      <button class=\"colab-df-convert\" onclick=\"convertToInteractive('df-8c43a0dc-e0f7-4962-8f75-09d57f7fa005')\"\n",
              "              title=\"Convert this dataframe to an interactive table.\"\n",
              "              style=\"display:none;\">\n",
              "        \n",
              "  <svg xmlns=\"http://www.w3.org/2000/svg\" height=\"24px\"viewBox=\"0 0 24 24\"\n",
              "       width=\"24px\">\n",
              "    <path d=\"M0 0h24v24H0V0z\" fill=\"none\"/>\n",
              "    <path d=\"M18.56 5.44l.94 2.06.94-2.06 2.06-.94-2.06-.94-.94-2.06-.94 2.06-2.06.94zm-11 1L8.5 8.5l.94-2.06 2.06-.94-2.06-.94L8.5 2.5l-.94 2.06-2.06.94zm10 10l.94 2.06.94-2.06 2.06-.94-2.06-.94-.94-2.06-.94 2.06-2.06.94z\"/><path d=\"M17.41 7.96l-1.37-1.37c-.4-.4-.92-.59-1.43-.59-.52 0-1.04.2-1.43.59L10.3 9.45l-7.72 7.72c-.78.78-.78 2.05 0 2.83L4 21.41c.39.39.9.59 1.41.59.51 0 1.02-.2 1.41-.59l7.78-7.78 2.81-2.81c.8-.78.8-2.07 0-2.86zM5.41 20L4 18.59l7.72-7.72 1.47 1.35L5.41 20z\"/>\n",
              "  </svg>\n",
              "      </button>\n",
              "      \n",
              "  <style>\n",
              "    .colab-df-container {\n",
              "      display:flex;\n",
              "      flex-wrap:wrap;\n",
              "      gap: 12px;\n",
              "    }\n",
              "\n",
              "    .colab-df-convert {\n",
              "      background-color: #E8F0FE;\n",
              "      border: none;\n",
              "      border-radius: 50%;\n",
              "      cursor: pointer;\n",
              "      display: none;\n",
              "      fill: #1967D2;\n",
              "      height: 32px;\n",
              "      padding: 0 0 0 0;\n",
              "      width: 32px;\n",
              "    }\n",
              "\n",
              "    .colab-df-convert:hover {\n",
              "      background-color: #E2EBFA;\n",
              "      box-shadow: 0px 1px 2px rgba(60, 64, 67, 0.3), 0px 1px 3px 1px rgba(60, 64, 67, 0.15);\n",
              "      fill: #174EA6;\n",
              "    }\n",
              "\n",
              "    [theme=dark] .colab-df-convert {\n",
              "      background-color: #3B4455;\n",
              "      fill: #D2E3FC;\n",
              "    }\n",
              "\n",
              "    [theme=dark] .colab-df-convert:hover {\n",
              "      background-color: #434B5C;\n",
              "      box-shadow: 0px 1px 3px 1px rgba(0, 0, 0, 0.15);\n",
              "      filter: drop-shadow(0px 1px 2px rgba(0, 0, 0, 0.3));\n",
              "      fill: #FFFFFF;\n",
              "    }\n",
              "  </style>\n",
              "\n",
              "      <script>\n",
              "        const buttonEl =\n",
              "          document.querySelector('#df-8c43a0dc-e0f7-4962-8f75-09d57f7fa005 button.colab-df-convert');\n",
              "        buttonEl.style.display =\n",
              "          google.colab.kernel.accessAllowed ? 'block' : 'none';\n",
              "\n",
              "        async function convertToInteractive(key) {\n",
              "          const element = document.querySelector('#df-8c43a0dc-e0f7-4962-8f75-09d57f7fa005');\n",
              "          const dataTable =\n",
              "            await google.colab.kernel.invokeFunction('convertToInteractive',\n",
              "                                                     [key], {});\n",
              "          if (!dataTable) return;\n",
              "\n",
              "          const docLinkHtml = 'Like what you see? Visit the ' +\n",
              "            '<a target=\"_blank\" href=https://colab.research.google.com/notebooks/data_table.ipynb>data table notebook</a>'\n",
              "            + ' to learn more about interactive tables.';\n",
              "          element.innerHTML = '';\n",
              "          dataTable['output_type'] = 'display_data';\n",
              "          await google.colab.output.renderOutput(dataTable, element);\n",
              "          const docLink = document.createElement('div');\n",
              "          docLink.innerHTML = docLinkHtml;\n",
              "          element.appendChild(docLink);\n",
              "        }\n",
              "      </script>\n",
              "    </div>\n",
              "  </div>\n",
              "  "
            ]
          },
          "metadata": {},
          "execution_count": 3
        }
      ],
      "source": [
        "project_data = pd.read_excel('Appliances_Postings_for_AUD.xlsx')\n",
        "project_data.head()\n",
        "     "
      ]
    },
    {
      "cell_type": "code",
      "execution_count": 4,
      "id": "df3fa3a5",
      "metadata": {
        "id": "df3fa3a5"
      },
      "outputs": [],
      "source": [
        "project_data['Description'] = project_data['Description'].fillna('Unknown')"
      ]
    },
    {
      "cell_type": "code",
      "execution_count": 5,
      "id": "144abf50",
      "metadata": {
        "id": "144abf50"
      },
      "outputs": [],
      "source": [
        "\n",
        "project_data['Description_char'] = project_data['Description'].values"
      ]
    },
    {
      "cell_type": "code",
      "execution_count": 6,
      "id": "e93e2e59",
      "metadata": {
        "id": "e93e2e59"
      },
      "outputs": [],
      "source": [
        "\n",
        "project_data['ex_flag'] = project_data['Description'].str.contains('excellent|Excellent').astype(int)\n",
        "project_data['new_flag'] = project_data['Description'].str.contains('new|New').astype(int)\n",
        "project_data['go_flag'] = project_data['Description'].str.contains('good|Good').astype(int)\n",
        "     "
      ]
    },
    {
      "cell_type": "code",
      "execution_count": 7,
      "id": "2042bf0b",
      "metadata": {
        "colab": {
          "base_uri": "https://localhost:8080/"
        },
        "id": "2042bf0b",
        "outputId": "f9e92f74-2ced-4e13-849f-a743a26a9a7b"
      },
      "outputs": [
        {
          "output_type": "stream",
          "name": "stderr",
          "text": [
            "<ipython-input-7-c19ff1845b57>:2: UserWarning: Boolean Series key will be reindexed to match DataFrame index.\n",
            "  filtered_data = filtered_data[~project_data['Price'].isna()]\n"
          ]
        },
        {
          "output_type": "execute_result",
          "data": {
            "text/plain": [
              "(3400, 13)"
            ]
          },
          "metadata": {},
          "execution_count": 7
        }
      ],
      "source": [
        "filtered_data = project_data[~project_data['Condition'].isna()]\n",
        "filtered_data = filtered_data[~project_data['Price'].isna()]\n",
        "filtered_data['Price'] = filtered_data['Price'].replace('[\\$,]', '', regex=True).astype(float)\n",
        "filtered_data['summary_size']     = filtered_data['Description'].apply(lambda x: len(x))\n",
        "filtered_data['words_in_summary'] = filtered_data['Description'].apply(lambda x: len(x.split()))\n",
        "filtered_data['Condition'] = filtered_data['Condition'].map({'excellent': 1, 'new': 1, 'good':0, 'like new':0, 'fair':0 })\n",
        "filtered_data = filtered_data[~filtered_data['Condition'].isna()]\n",
        "\n",
        "filtered_data.shape\n",
        "     "
      ]
    },
    {
      "cell_type": "code",
      "execution_count": 8,
      "id": "24cab111",
      "metadata": {
        "colab": {
          "base_uri": "https://localhost:8080/"
        },
        "id": "24cab111",
        "outputId": "6145fa4e-3775-4495-c8b9-c7b61667c757"
      },
      "outputs": [
        {
          "output_type": "execute_result",
          "data": {
            "text/plain": [
              "1.0    0.640588\n",
              "0.0    0.359412\n",
              "Name: Condition, dtype: float64"
            ]
          },
          "metadata": {},
          "execution_count": 8
        }
      ],
      "source": [
        "filtered_data['Condition'].value_counts(normalize=True)"
      ]
    },
    {
      "cell_type": "code",
      "execution_count": 9,
      "id": "be57d953",
      "metadata": {
        "id": "be57d953"
      },
      "outputs": [],
      "source": [
        "default_preprocessor = CountVectorizer().build_preprocessor()\n",
        "def build_text_preprocessor(field):\n",
        "  field_idx = list(filtered_data.columns).index(field)\n",
        "  return lambda x: default_preprocessor(x[field_idx])\n",
        "\n",
        "re_tok = re.compile(f'([{string.punctuation}''])')\n",
        "def tokenize(s):\n",
        "  return re_tok.sub(r' ', s).split(' ')"
      ]
    },
    {
      "cell_type": "code",
      "execution_count": 10,
      "id": "60a2697d",
      "metadata": {
        "id": "60a2697d"
      },
      "outputs": [],
      "source": [
        "\n",
        "text_vectorizer = FeatureUnion([\n",
        "                                ('Description', TfidfVectorizer(ngram_range=(1,3), tokenizer=tokenize, min_df=0.01, max_df=0.9,\n",
        "                                                                strip_accents='unicode',use_idf=1, smooth_idf=1, sublinear_tf=1,\n",
        "                                                                preprocessor = build_text_preprocessor('Description'))),\n",
        "                                ('Description_char', TfidfVectorizer(ngram_range=(1,4), tokenizer=tokenize, analyzer='char', \n",
        "                                                                     stop_words='english', strip_accents='unicode',\n",
        "                                                                     max_features=10000,\n",
        "                                                                preprocessor = build_text_preprocessor('Description_char'))),\n",
        "                                ('Title', TfidfVectorizer(ngram_range=(1,3), tokenizer=tokenize, min_df=0.01, max_df=0.9,\n",
        "                                                                strip_accents='unicode',use_idf=1, smooth_idf=1, sublinear_tf=1,\n",
        "                                                                preprocessor = build_text_preprocessor('Title')))\n",
        "                              ])\n",
        "train_tfidf = text_vectorizer.fit_transform(filtered_data.values)"
      ]
    },
    {
      "cell_type": "code",
      "execution_count": 11,
      "id": "93d0dbf1",
      "metadata": {
        "id": "93d0dbf1"
      },
      "outputs": [],
      "source": [
        "\n",
        "numeric_features = csr_matrix(filtered_data[[ 'summary_size', 'words_in_summary', 'Price', 'ex_flag', 'new_flag', 'go_flag']].values)\n",
        "train_idf = hstack((train_tfidf, numeric_features)).toarray()"
      ]
    },
    {
      "cell_type": "code",
      "execution_count": 12,
      "id": "8ee82489",
      "metadata": {
        "colab": {
          "base_uri": "https://localhost:8080/",
          "height": 641
        },
        "id": "8ee82489",
        "outputId": "9406cd69-acf1-474b-d3be-d201fe969274"
      },
      "outputs": [
        {
          "output_type": "execute_result",
          "data": {
            "text/plain": [
              "      Posting ID                                               link  \\\n",
              "0              0  https://dallas.craigslist.org/ndf/app/75540765...   \n",
              "1              1  https://dallas.craigslist.org/ndf/app/75603287...   \n",
              "2              2  https://dallas.craigslist.org/ndf/app/75593750...   \n",
              "3              3  https://dallas.craigslist.org/ndf/app/75533342...   \n",
              "4              4  https://dallas.craigslist.org/ndf/app/75593744...   \n",
              "...          ...                                                ...   \n",
              "5394        5394  https://sfbay.craigslist.org/sby/app/756255039...   \n",
              "5395        5395  https://sfbay.craigslist.org/sfc/app/756056209...   \n",
              "5397        5397  https://sfbay.craigslist.org/sby/app/756254792...   \n",
              "5398        5398  https://sfbay.craigslist.org/sby/app/756254737...   \n",
              "5399        5399  https://sfbay.craigslist.org/sby/app/756254608...   \n",
              "\n",
              "                                                  Title  \\\n",
              "0     Frigidaire Black Built-in Oven - $249 (Pilot P...   \n",
              "1        Whirlpool Top load Washer - $249 (Pilot Point)   \n",
              "2        Maytag Top Loading Washer - $149 (Pilot Point)   \n",
              "3     Kenmore Stainless Steel Range - $400 (Pilot Po...   \n",
              "4     Whirlpool Black Side by Side Fridge - $449 (Pi...   \n",
              "...                                                 ...   \n",
              "5394  Cuisinart Brand 11 Cup Food Processor + Set of...   \n",
              "5395  1967 Elextrolux Model G - Teal - $100 (SOMA / ...   \n",
              "5397                           steamer - $60 (San Jose)   \n",
              "5398         Dishwasher - $140 (willow glen / cambrian)   \n",
              "5399         Portable Air Conditioner - $300 (San Jose)   \n",
              "\n",
              "                                            Description  Price  Condition  \\\n",
              "0     Frigidaire Black Built-in Oven Excellent hardl...  249.0        0.0   \n",
              "1     Whirlpool Top load WasherNot pretty but works ...  249.0        0.0   \n",
              "2     Maytag Top Loading WasherA little older and no...  149.0        0.0   \n",
              "3     Kenmore Stainless Steel RangeGently Used Condi...  400.0        0.0   \n",
              "4     Whirlpool Black Side by Side Fridge!Excellent ...  449.0        0.0   \n",
              "...                                                 ...    ...        ...   \n",
              "5394  The price for everything mentioned below is $1...  100.0        1.0   \n",
              "5395  Vintage Canister Vacuum Cleaner - automatic co...  100.0        0.0   \n",
              "5397                               Brand new in the box   60.0        1.0   \n",
              "5398  SPT Counter/ mobile dishwasher Open box excell...  140.0        0.0   \n",
              "5399  The LG LP0818WNR type portable air conditioner...  300.0        1.0   \n",
              "\n",
              "           Make                                   Description_char  ex_flag  \\\n",
              "0           NaN  Frigidaire Black Built-in Oven Excellent hardl...        1   \n",
              "1           NaN  Whirlpool Top load WasherNot pretty but works ...        0   \n",
              "2           NaN  Maytag Top Loading WasherA little older and no...        0   \n",
              "3           NaN  Kenmore Stainless Steel RangeGently Used Condi...        0   \n",
              "4           NaN  Whirlpool Black Side by Side Fridge!Excellent ...        1   \n",
              "...         ...                                                ...      ...   \n",
              "5394  Cuisinart  The price for everything mentioned below is $1...        1   \n",
              "5395        NaN  Vintage Canister Vacuum Cleaner - automatic co...        0   \n",
              "5397  puresteam                               Brand new in the box        0   \n",
              "5398        SPT  SPT Counter/ mobile dishwasher Open box excell...        1   \n",
              "5399         LG  The LG LP0818WNR type portable air conditioner...        0   \n",
              "\n",
              "      new_flag  go_flag  summary_size  words_in_summary  \n",
              "0            0        0           266                45  \n",
              "1            0        0           184                34  \n",
              "2            0        1           335                62  \n",
              "3            0        0           257                39  \n",
              "4            0        0           252                40  \n",
              "...        ...      ...           ...               ...  \n",
              "5394         1        0          1494               223  \n",
              "5395         0        0           182                31  \n",
              "5397         1        0            20                 5  \n",
              "5398         1        0           129                20  \n",
              "5399         0        0           400                69  \n",
              "\n",
              "[3400 rows x 13 columns]"
            ],
            "text/html": [
              "\n",
              "  <div id=\"df-1fe69ba3-3d98-4495-8a1b-7518a5ba42fd\">\n",
              "    <div class=\"colab-df-container\">\n",
              "      <div>\n",
              "<style scoped>\n",
              "    .dataframe tbody tr th:only-of-type {\n",
              "        vertical-align: middle;\n",
              "    }\n",
              "\n",
              "    .dataframe tbody tr th {\n",
              "        vertical-align: top;\n",
              "    }\n",
              "\n",
              "    .dataframe thead th {\n",
              "        text-align: right;\n",
              "    }\n",
              "</style>\n",
              "<table border=\"1\" class=\"dataframe\">\n",
              "  <thead>\n",
              "    <tr style=\"text-align: right;\">\n",
              "      <th></th>\n",
              "      <th>Posting ID</th>\n",
              "      <th>link</th>\n",
              "      <th>Title</th>\n",
              "      <th>Description</th>\n",
              "      <th>Price</th>\n",
              "      <th>Condition</th>\n",
              "      <th>Make</th>\n",
              "      <th>Description_char</th>\n",
              "      <th>ex_flag</th>\n",
              "      <th>new_flag</th>\n",
              "      <th>go_flag</th>\n",
              "      <th>summary_size</th>\n",
              "      <th>words_in_summary</th>\n",
              "    </tr>\n",
              "  </thead>\n",
              "  <tbody>\n",
              "    <tr>\n",
              "      <th>0</th>\n",
              "      <td>0</td>\n",
              "      <td>https://dallas.craigslist.org/ndf/app/75540765...</td>\n",
              "      <td>Frigidaire Black Built-in Oven - $249 (Pilot P...</td>\n",
              "      <td>Frigidaire Black Built-in Oven Excellent hardl...</td>\n",
              "      <td>249.0</td>\n",
              "      <td>0.0</td>\n",
              "      <td>NaN</td>\n",
              "      <td>Frigidaire Black Built-in Oven Excellent hardl...</td>\n",
              "      <td>1</td>\n",
              "      <td>0</td>\n",
              "      <td>0</td>\n",
              "      <td>266</td>\n",
              "      <td>45</td>\n",
              "    </tr>\n",
              "    <tr>\n",
              "      <th>1</th>\n",
              "      <td>1</td>\n",
              "      <td>https://dallas.craigslist.org/ndf/app/75603287...</td>\n",
              "      <td>Whirlpool Top load Washer - $249 (Pilot Point)</td>\n",
              "      <td>Whirlpool Top load WasherNot pretty but works ...</td>\n",
              "      <td>249.0</td>\n",
              "      <td>0.0</td>\n",
              "      <td>NaN</td>\n",
              "      <td>Whirlpool Top load WasherNot pretty but works ...</td>\n",
              "      <td>0</td>\n",
              "      <td>0</td>\n",
              "      <td>0</td>\n",
              "      <td>184</td>\n",
              "      <td>34</td>\n",
              "    </tr>\n",
              "    <tr>\n",
              "      <th>2</th>\n",
              "      <td>2</td>\n",
              "      <td>https://dallas.craigslist.org/ndf/app/75593750...</td>\n",
              "      <td>Maytag Top Loading Washer - $149 (Pilot Point)</td>\n",
              "      <td>Maytag Top Loading WasherA little older and no...</td>\n",
              "      <td>149.0</td>\n",
              "      <td>0.0</td>\n",
              "      <td>NaN</td>\n",
              "      <td>Maytag Top Loading WasherA little older and no...</td>\n",
              "      <td>0</td>\n",
              "      <td>0</td>\n",
              "      <td>1</td>\n",
              "      <td>335</td>\n",
              "      <td>62</td>\n",
              "    </tr>\n",
              "    <tr>\n",
              "      <th>3</th>\n",
              "      <td>3</td>\n",
              "      <td>https://dallas.craigslist.org/ndf/app/75533342...</td>\n",
              "      <td>Kenmore Stainless Steel Range - $400 (Pilot Po...</td>\n",
              "      <td>Kenmore Stainless Steel RangeGently Used Condi...</td>\n",
              "      <td>400.0</td>\n",
              "      <td>0.0</td>\n",
              "      <td>NaN</td>\n",
              "      <td>Kenmore Stainless Steel RangeGently Used Condi...</td>\n",
              "      <td>0</td>\n",
              "      <td>0</td>\n",
              "      <td>0</td>\n",
              "      <td>257</td>\n",
              "      <td>39</td>\n",
              "    </tr>\n",
              "    <tr>\n",
              "      <th>4</th>\n",
              "      <td>4</td>\n",
              "      <td>https://dallas.craigslist.org/ndf/app/75593744...</td>\n",
              "      <td>Whirlpool Black Side by Side Fridge - $449 (Pi...</td>\n",
              "      <td>Whirlpool Black Side by Side Fridge!Excellent ...</td>\n",
              "      <td>449.0</td>\n",
              "      <td>0.0</td>\n",
              "      <td>NaN</td>\n",
              "      <td>Whirlpool Black Side by Side Fridge!Excellent ...</td>\n",
              "      <td>1</td>\n",
              "      <td>0</td>\n",
              "      <td>0</td>\n",
              "      <td>252</td>\n",
              "      <td>40</td>\n",
              "    </tr>\n",
              "    <tr>\n",
              "      <th>...</th>\n",
              "      <td>...</td>\n",
              "      <td>...</td>\n",
              "      <td>...</td>\n",
              "      <td>...</td>\n",
              "      <td>...</td>\n",
              "      <td>...</td>\n",
              "      <td>...</td>\n",
              "      <td>...</td>\n",
              "      <td>...</td>\n",
              "      <td>...</td>\n",
              "      <td>...</td>\n",
              "      <td>...</td>\n",
              "      <td>...</td>\n",
              "    </tr>\n",
              "    <tr>\n",
              "      <th>5394</th>\n",
              "      <td>5394</td>\n",
              "      <td>https://sfbay.craigslist.org/sby/app/756255039...</td>\n",
              "      <td>Cuisinart Brand 11 Cup Food Processor + Set of...</td>\n",
              "      <td>The price for everything mentioned below is $1...</td>\n",
              "      <td>100.0</td>\n",
              "      <td>1.0</td>\n",
              "      <td>Cuisinart</td>\n",
              "      <td>The price for everything mentioned below is $1...</td>\n",
              "      <td>1</td>\n",
              "      <td>1</td>\n",
              "      <td>0</td>\n",
              "      <td>1494</td>\n",
              "      <td>223</td>\n",
              "    </tr>\n",
              "    <tr>\n",
              "      <th>5395</th>\n",
              "      <td>5395</td>\n",
              "      <td>https://sfbay.craigslist.org/sfc/app/756056209...</td>\n",
              "      <td>1967 Elextrolux Model G - Teal - $100 (SOMA / ...</td>\n",
              "      <td>Vintage Canister Vacuum Cleaner - automatic co...</td>\n",
              "      <td>100.0</td>\n",
              "      <td>0.0</td>\n",
              "      <td>NaN</td>\n",
              "      <td>Vintage Canister Vacuum Cleaner - automatic co...</td>\n",
              "      <td>0</td>\n",
              "      <td>0</td>\n",
              "      <td>0</td>\n",
              "      <td>182</td>\n",
              "      <td>31</td>\n",
              "    </tr>\n",
              "    <tr>\n",
              "      <th>5397</th>\n",
              "      <td>5397</td>\n",
              "      <td>https://sfbay.craigslist.org/sby/app/756254792...</td>\n",
              "      <td>steamer - $60 (San Jose)</td>\n",
              "      <td>Brand new in the box</td>\n",
              "      <td>60.0</td>\n",
              "      <td>1.0</td>\n",
              "      <td>puresteam</td>\n",
              "      <td>Brand new in the box</td>\n",
              "      <td>0</td>\n",
              "      <td>1</td>\n",
              "      <td>0</td>\n",
              "      <td>20</td>\n",
              "      <td>5</td>\n",
              "    </tr>\n",
              "    <tr>\n",
              "      <th>5398</th>\n",
              "      <td>5398</td>\n",
              "      <td>https://sfbay.craigslist.org/sby/app/756254737...</td>\n",
              "      <td>Dishwasher - $140 (willow glen / cambrian)</td>\n",
              "      <td>SPT Counter/ mobile dishwasher Open box excell...</td>\n",
              "      <td>140.0</td>\n",
              "      <td>0.0</td>\n",
              "      <td>SPT</td>\n",
              "      <td>SPT Counter/ mobile dishwasher Open box excell...</td>\n",
              "      <td>1</td>\n",
              "      <td>1</td>\n",
              "      <td>0</td>\n",
              "      <td>129</td>\n",
              "      <td>20</td>\n",
              "    </tr>\n",
              "    <tr>\n",
              "      <th>5399</th>\n",
              "      <td>5399</td>\n",
              "      <td>https://sfbay.craigslist.org/sby/app/756254608...</td>\n",
              "      <td>Portable Air Conditioner - $300 (San Jose)</td>\n",
              "      <td>The LG LP0818WNR type portable air conditioner...</td>\n",
              "      <td>300.0</td>\n",
              "      <td>1.0</td>\n",
              "      <td>LG</td>\n",
              "      <td>The LG LP0818WNR type portable air conditioner...</td>\n",
              "      <td>0</td>\n",
              "      <td>0</td>\n",
              "      <td>0</td>\n",
              "      <td>400</td>\n",
              "      <td>69</td>\n",
              "    </tr>\n",
              "  </tbody>\n",
              "</table>\n",
              "<p>3400 rows × 13 columns</p>\n",
              "</div>\n",
              "      <button class=\"colab-df-convert\" onclick=\"convertToInteractive('df-1fe69ba3-3d98-4495-8a1b-7518a5ba42fd')\"\n",
              "              title=\"Convert this dataframe to an interactive table.\"\n",
              "              style=\"display:none;\">\n",
              "        \n",
              "  <svg xmlns=\"http://www.w3.org/2000/svg\" height=\"24px\"viewBox=\"0 0 24 24\"\n",
              "       width=\"24px\">\n",
              "    <path d=\"M0 0h24v24H0V0z\" fill=\"none\"/>\n",
              "    <path d=\"M18.56 5.44l.94 2.06.94-2.06 2.06-.94-2.06-.94-.94-2.06-.94 2.06-2.06.94zm-11 1L8.5 8.5l.94-2.06 2.06-.94-2.06-.94L8.5 2.5l-.94 2.06-2.06.94zm10 10l.94 2.06.94-2.06 2.06-.94-2.06-.94-.94-2.06-.94 2.06-2.06.94z\"/><path d=\"M17.41 7.96l-1.37-1.37c-.4-.4-.92-.59-1.43-.59-.52 0-1.04.2-1.43.59L10.3 9.45l-7.72 7.72c-.78.78-.78 2.05 0 2.83L4 21.41c.39.39.9.59 1.41.59.51 0 1.02-.2 1.41-.59l7.78-7.78 2.81-2.81c.8-.78.8-2.07 0-2.86zM5.41 20L4 18.59l7.72-7.72 1.47 1.35L5.41 20z\"/>\n",
              "  </svg>\n",
              "      </button>\n",
              "      \n",
              "  <style>\n",
              "    .colab-df-container {\n",
              "      display:flex;\n",
              "      flex-wrap:wrap;\n",
              "      gap: 12px;\n",
              "    }\n",
              "\n",
              "    .colab-df-convert {\n",
              "      background-color: #E8F0FE;\n",
              "      border: none;\n",
              "      border-radius: 50%;\n",
              "      cursor: pointer;\n",
              "      display: none;\n",
              "      fill: #1967D2;\n",
              "      height: 32px;\n",
              "      padding: 0 0 0 0;\n",
              "      width: 32px;\n",
              "    }\n",
              "\n",
              "    .colab-df-convert:hover {\n",
              "      background-color: #E2EBFA;\n",
              "      box-shadow: 0px 1px 2px rgba(60, 64, 67, 0.3), 0px 1px 3px 1px rgba(60, 64, 67, 0.15);\n",
              "      fill: #174EA6;\n",
              "    }\n",
              "\n",
              "    [theme=dark] .colab-df-convert {\n",
              "      background-color: #3B4455;\n",
              "      fill: #D2E3FC;\n",
              "    }\n",
              "\n",
              "    [theme=dark] .colab-df-convert:hover {\n",
              "      background-color: #434B5C;\n",
              "      box-shadow: 0px 1px 3px 1px rgba(0, 0, 0, 0.15);\n",
              "      filter: drop-shadow(0px 1px 2px rgba(0, 0, 0, 0.3));\n",
              "      fill: #FFFFFF;\n",
              "    }\n",
              "  </style>\n",
              "\n",
              "      <script>\n",
              "        const buttonEl =\n",
              "          document.querySelector('#df-1fe69ba3-3d98-4495-8a1b-7518a5ba42fd button.colab-df-convert');\n",
              "        buttonEl.style.display =\n",
              "          google.colab.kernel.accessAllowed ? 'block' : 'none';\n",
              "\n",
              "        async function convertToInteractive(key) {\n",
              "          const element = document.querySelector('#df-1fe69ba3-3d98-4495-8a1b-7518a5ba42fd');\n",
              "          const dataTable =\n",
              "            await google.colab.kernel.invokeFunction('convertToInteractive',\n",
              "                                                     [key], {});\n",
              "          if (!dataTable) return;\n",
              "\n",
              "          const docLinkHtml = 'Like what you see? Visit the ' +\n",
              "            '<a target=\"_blank\" href=https://colab.research.google.com/notebooks/data_table.ipynb>data table notebook</a>'\n",
              "            + ' to learn more about interactive tables.';\n",
              "          element.innerHTML = '';\n",
              "          dataTable['output_type'] = 'display_data';\n",
              "          await google.colab.output.renderOutput(dataTable, element);\n",
              "          const docLink = document.createElement('div');\n",
              "          docLink.innerHTML = docLinkHtml;\n",
              "          element.appendChild(docLink);\n",
              "        }\n",
              "      </script>\n",
              "    </div>\n",
              "  </div>\n",
              "  "
            ]
          },
          "metadata": {},
          "execution_count": 12
        }
      ],
      "source": [
        "filtered_data"
      ]
    },
    {
      "cell_type": "code",
      "execution_count": 13,
      "id": "83922280",
      "metadata": {
        "id": "83922280"
      },
      "outputs": [],
      "source": [
        "y = filtered_data['Condition']"
      ]
    },
    {
      "cell_type": "code",
      "execution_count": 14,
      "id": "04ee245d",
      "metadata": {
        "id": "04ee245d"
      },
      "outputs": [],
      "source": [
        "X_train, X_valid, y_train, y_valid = train_test_split(train_idf, y, test_size=0.2, random_state=1, stratify = y )"
      ]
    },
    {
      "cell_type": "code",
      "execution_count": 15,
      "id": "2d860810",
      "metadata": {
        "colab": {
          "base_uri": "https://localhost:8080/"
        },
        "id": "2d860810",
        "outputId": "670d1017-56f8-4226-df1c-819d5563f05d"
      },
      "outputs": [
        {
          "output_type": "execute_result",
          "data": {
            "text/plain": [
              "0.7794117647058824"
            ]
          },
          "metadata": {},
          "execution_count": 15
        }
      ],
      "source": [
        "\n",
        "classifier = RidgeClassifier(alpha=.0001)\n",
        "classifier.fit(X_train, y_train)\n",
        "pred_tfidf = classifier.decision_function(X_valid)\n",
        "probs_tfidf = np.exp(pred_tfidf)\n",
        "pred_tfidf = np.where(probs_tfidf>0.90, 1, 0)\n",
        "accuracy_val = accuracy_score(y_valid, pred_tfidf)\n",
        "accuracy_val\n",
        "     "
      ]
    },
    {
      "cell_type": "code",
      "execution_count": 16,
      "id": "2645ee28",
      "metadata": {
        "colab": {
          "base_uri": "https://localhost:8080/"
        },
        "id": "2645ee28",
        "outputId": "ac1e5b26-7f45-4ba4-c50c-2de560acb376"
      },
      "outputs": [
        {
          "output_type": "execute_result",
          "data": {
            "text/plain": [
              "1.0    0.640588\n",
              "0.0    0.359412\n",
              "Name: Condition, dtype: float64"
            ]
          },
          "metadata": {},
          "execution_count": 16
        }
      ],
      "source": [
        "filtered_data['Condition'].value_counts(normalize=True)"
      ]
    },
    {
      "cell_type": "code",
      "execution_count": 17,
      "id": "4e325434",
      "metadata": {
        "colab": {
          "base_uri": "https://localhost:8080/"
        },
        "id": "4e325434",
        "outputId": "0428ba56-e3f1-48d0-9ca6-1413d583f5b0"
      },
      "outputs": [
        {
          "output_type": "stream",
          "name": "stdout",
          "text": [
            "Gaussian Naive Bayes Accuracy Score ->  76.3235294117647\n"
          ]
        }
      ],
      "source": [
        "gnb = GaussianNB()\n",
        "y_pred = gnb.fit(X_train, y_train).predict(X_valid)\n",
        "accuracy_gb = accuracy_score(y_valid, y_pred)\n",
        "print(\"Gaussian Naive Bayes Accuracy Score -> \",accuracy_gb*100)"
      ]
    },
    {
      "cell_type": "code",
      "execution_count": 18,
      "id": "dc6d86ca",
      "metadata": {
        "colab": {
          "base_uri": "https://localhost:8080/"
        },
        "id": "dc6d86ca",
        "outputId": "7590f8bb-1b49-470a-f2db-f6a395dca20a"
      },
      "outputs": [
        {
          "output_type": "stream",
          "name": "stdout",
          "text": [
            "Naive Bayes Accuracy Score ->  56.3235294117647\n"
          ]
        }
      ],
      "source": [
        "Naive = naive_bayes.MultinomialNB()\n",
        "Naive.fit(X_train,y_train)\n",
        "predictions_NB = Naive.predict(X_valid)\n",
        "print(\"Naive Bayes Accuracy Score -> \",accuracy_score(predictions_NB, y_valid)*100)\n",
        "     "
      ]
    },
    {
      "cell_type": "code",
      "execution_count": 19,
      "id": "c9b520bc",
      "metadata": {
        "colab": {
          "base_uri": "https://localhost:8080/"
        },
        "id": "c9b520bc",
        "outputId": "9d261943-80b5-4dc6-cc5a-fe8e2853f000"
      },
      "outputs": [
        {
          "output_type": "stream",
          "name": "stdout",
          "text": [
            "Random Forest Accuracy Score ->  85.1470588235294\n"
          ]
        }
      ],
      "source": [
        "\n",
        "#Random Forest Classifier\n",
        "random_forest = RandomForestClassifier(n_estimators=50)\n",
        "y_pred_rf = random_forest.fit(X_train,y_train).predict(X_valid)\n",
        "accuracy_rf = accuracy_score(y_pred_rf, y_valid)\n",
        "print(\"Random Forest Accuracy Score -> \",accuracy_rf*100)"
      ]
    },
    {
      "cell_type": "code",
      "execution_count": 55,
      "id": "60eef3d5",
      "metadata": {
        "id": "60eef3d5"
      },
      "outputs": [],
      "source": [
        "import pandas as pd\n",
        "from keras.preprocessing import text,sequence\n",
        "import numpy as np\n",
        "from keras.layers import GRU, Conv1D,CuDNNGRU\n",
        "from keras.layers import Bidirectional, GlobalAveragePooling1D, GlobalMaxPooling1D, concatenate, SpatialDropout1D\n",
        "from keras.callbacks import Callback,EarlyStopping\n",
        "from sklearn.model_selection import train_test_split\n",
        "from keras.preprocessing.text import Tokenizer\n",
        "from keras.callbacks import ModelCheckpoint\n",
        "from keras_preprocessing.sequence import pad_sequences\n",
        "from keras.layers import Dense, Input, Embedding, Dropout, Conv1D\n",
        "from keras.models import Model, load_model\n",
        "from tensorflow.keras.optimizers import Adam\n",
        "from sklearn.metrics import accuracy_score,roc_auc_score,f1_score\n",
        "import re,string\n",
        "from sklearn.linear_model import LogisticRegression, RidgeClassifier\n",
        "from sklearn.feature_extraction.text import CountVectorizer, TfidfVectorizer\n",
        "from sklearn.pipeline import FeatureUnion\n",
        "from scipy import sparse\n",
        "from scipy.sparse import hstack, csr_matrix\n",
        "from keras.models import model_from_json\n",
        "import warnings\n",
        "warnings.filterwarnings(\"ignore\")"
      ]
    },
    {
      "cell_type": "code",
      "execution_count": 56,
      "id": "2fe303b5",
      "metadata": {
        "id": "2fe303b5"
      },
      "outputs": [],
      "source": [
        "embed_size = 300\n",
        "max_features = 6500\n",
        "maxlen = 350\n",
        "tokenizer = text.Tokenizer(num_words=max_features)\n",
        "tokenizer.fit_on_texts(list(filtered_data['Description']))\n",
        "from gensim.models import KeyedVectors\n",
        "#EMBEDDING_FILE = KeyedVectors.load_word2vec_format('glove.6B.50dg.txt', binary=False)\n",
        "embedding_dict={} #intitialize empty dictionary \n",
        "with open('/content/glove.6B.50d.txt','r',encoding=\"utf8\") as f:\n",
        "    for line in f:\n",
        "        values=line.split()\n",
        "        word = values[0]\n",
        "        vectors=np.asarray(values[1:],'float32')\n",
        "        embedding_dict[word]=vectors\n",
        "f.close()\n",
        "word_index = tokenizer.word_index\n",
        "nb_words = min(max_features, len(word_index))\n",
        "glove=[]\n",
        "for word, i in word_index.items():\n",
        "    temp=[]\n",
        "    if i > max_features: \n",
        "        continue\n",
        "    embedding_vector = embedding_dict.get(word)\n",
        "    if embedding_vector is not None: \n",
        "        temp.append(embedding_vector.flatten().tolist())\n",
        "    glove.append(temp)\n"
      ]
    },
    {
      "cell_type": "code",
      "source": [
        "from tensorflow.keras.preprocessing.sequence import pad_sequences\n",
        "glove_matrix=pad_sequences(glove,padding=\"post\",dtype='float64') #padding to obtain final 3D \n",
        "glove_matrix"
      ],
      "metadata": {
        "colab": {
          "base_uri": "https://localhost:8080/"
        },
        "id": "gLGBOyEL35jh",
        "outputId": "4435a406-7747-44d0-e04d-83f183f7df22"
      },
      "id": "gLGBOyEL35jh",
      "execution_count": 57,
      "outputs": [
        {
          "output_type": "execute_result",
          "data": {
            "text/plain": [
              "array([[[ 0.26818001,  0.14346001, -0.27877   , ..., -0.63209999,\n",
              "         -0.25027999, -0.38097   ]],\n",
              "\n",
              "       [[ 0.15272   ,  0.36181   , -0.22168   , ...,  0.43382001,\n",
              "         -0.084617  ,  0.1214    ]],\n",
              "\n",
              "       [[ 0.41800001,  0.24968   , -0.41242   , ..., -0.18411   ,\n",
              "         -0.11514   , -0.78580999]],\n",
              "\n",
              "       ...,\n",
              "\n",
              "       [[ 0.        ,  0.        ,  0.        , ...,  0.        ,\n",
              "          0.        ,  0.        ]],\n",
              "\n",
              "       [[ 0.        ,  0.        ,  0.        , ...,  0.        ,\n",
              "          0.        ,  0.        ]],\n",
              "\n",
              "       [[ 0.16141   , -1.03999996,  0.63762999, ...,  0.53530997,\n",
              "          0.83732998,  1.04569995]]])"
            ]
          },
          "metadata": {},
          "execution_count": 57
        }
      ]
    },
    {
      "cell_type": "code",
      "source": [
        "\n",
        "embed_size = 50\n",
        "max_features = 6500\n",
        "maxlen = 350\n",
        "tokenizer = text.Tokenizer(num_words=max_features)\n",
        "tokenizer.fit_on_texts(list(filtered_data['Description']))\n",
        "EMBEDDING_FILE = '/content/glove.6B.50d.txt'\n",
        "print('loading embedding file')\n",
        "def get_coefs(word, *arr): return word, np.asarray(arr, dtype='float32')\n",
        "embeddings_index = dict(get_coefs(*o.rstrip().rsplit(' ')) for o in open(EMBEDDING_FILE,encoding=\"utf8\"))\n",
        "print('Done loading embedding file')\n",
        "word_index = tokenizer.word_index\n",
        "nb_words = min(max_features, len(word_index))\n",
        "embedding_matrix = np.zeros((nb_words, embed_size))\n",
        "for word, i in word_index.items():\n",
        "  if i >= max_features: continue\n",
        "  embedding_vector = embeddings_index.get(word)\n",
        "  if embedding_vector is not None: embedding_matrix[i] = embedding_vector"
      ],
      "metadata": {
        "colab": {
          "base_uri": "https://localhost:8080/"
        },
        "id": "aIah_oY93bC6",
        "outputId": "5a921314-fb8d-4cdf-de93-f76e51da99d4"
      },
      "id": "aIah_oY93bC6",
      "execution_count": 78,
      "outputs": [
        {
          "output_type": "stream",
          "name": "stdout",
          "text": [
            "loading embedding file\n",
            "Done loading embedding file\n"
          ]
        }
      ]
    },
    {
      "cell_type": "code",
      "execution_count": 79,
      "id": "99d37236",
      "metadata": {
        "id": "99d37236"
      },
      "outputs": [],
      "source": [
        "\n",
        "def build_model(body_flag,body_flag_test, X_train,Y_train,X_valid,Y_valid,early_stop, lr = 0.0, lr_d = 0.0, units = 0, dr = 0.0):\n",
        "    body_text_flag = body_flag\n",
        "    inp = Input(shape = (maxlen,))\n",
        "    print(nb_words)\n",
        "    x = Embedding(max_features , embed_size, weights = [embedding_matrix], trainable = False)(inp)\n",
        "\n",
        "    x = SpatialDropout1D(dr)(x)\n",
        "\n",
        "    x = Bidirectional(GRU(64, return_sequences = True))(x)\n",
        "    x = Conv1D(64, kernel_size = 1, padding = \"valid\", kernel_initializer = \"he_uniform\")(x)\n",
        "    avg_pool = GlobalAveragePooling1D()(x)\n",
        "    max_pool = GlobalMaxPooling1D()(x)\n",
        "    \n",
        "    # body_text_flag = Input(shape=[body_text_flag.shape[1]], name=\"body_text_flag\")\n",
        "    x = concatenate([avg_pool, max_pool])\n",
        "    x = Dense(1, activation = \"sigmoid\")(x)\n",
        "    model = Model(inputs = inp, outputs = x)\n",
        "    ra_val = RocAucEvaluation(validation_data=(X_valid, Y_valid), interval = 1)\n",
        "    model.compile(loss = \"binary_crossentropy\", optimizer = Adam(lr = lr, decay = lr_d), metrics = [\"accuracy\"])\n",
        "    history = model.fit(X_train , Y_train, batch_size = 64, epochs = 15, validation_data = (X_valid, Y_valid), \n",
        "                        verbose = 1, callbacks = [ra_val, check_point, early_stop])\n",
        "    #model = load_model(file_path)\n",
        "    return model\n",
        "\n",
        "class RocAucEvaluation(Callback):\n",
        "    def __init__(self, validation_data=(), interval=1):\n",
        "        super(Callback, self).__init__()\n",
        "\n",
        "        self.interval = interval\n",
        "        self.X_val, self.y_val = validation_data\n",
        "\n",
        "    def on_epoch_end(self, epoch, logs={}):\n",
        "        if epoch % self.interval == 0:\n",
        "            y_pred = self.model.predict(self.X_val, verbose=0)\n",
        "            score = roc_auc_score(self.y_val, y_pred)\n",
        "            print(\"\\n ROC-AUC - epoch: %d - score: %.6f \\n\" % (epoch+1, score))"
      ]
    },
    {
      "cell_type": "code",
      "execution_count": 80,
      "id": "0ca8b6b1",
      "metadata": {
        "id": "0ca8b6b1"
      },
      "outputs": [],
      "source": [
        "def build_model(body_flag,body_flag_test, X_train,Y_train,X_valid,Y_valid,early_stop, lr = 0.0, lr_d = 0.0, units = 0, dr = 0.0):\n",
        "    body_text_flag = body_flag\n",
        "    inp = Input(shape = (maxlen,))\n",
        "    x = Embedding(max_features, embed_size, weights = [embedding_matrix], trainable = False)(inp)\n",
        "    x = SpatialDropout1D(dr)(x)\n",
        "\n",
        "    x = Bidirectional(GRU(units, return_sequences = True))(x)\n",
        "    x = Conv1D(64, kernel_size = 2, padding = \"valid\", kernel_initializer = \"he_uniform\")(x)\n",
        "    avg_pool = GlobalAveragePooling1D()(x)\n",
        "    max_pool = GlobalMaxPooling1D()(x)\n",
        "    body_text_flag = Input(shape=[body_text_flag.shape[1]], name=\"body_text_flag\")\n",
        "    x = concatenate([avg_pool, max_pool, body_text_flag])\n",
        "    x = Dense(1, activation = \"sigmoid\")(x)\n",
        "    model = Model(inputs = [inp, body_text_flag], outputs = x)\n",
        "    ra_val = RocAucEvaluation(validation_data=([X_valid,body_flag_test], Y_valid), interval = 1)\n",
        "    model.compile(loss = \"binary_crossentropy\", optimizer = Adam(lr = lr, decay = lr_d), metrics = [\"accuracy\"])\n",
        "    history = model.fit([X_train,body_flag] , Y_train, batch_size = 64, epochs = 15, validation_data = ([X_valid,body_flag_test], Y_valid), \n",
        "                        verbose = 1, callbacks = [ra_val, check_point, early_stop])\n",
        "    #model = load_model(file_path)\n",
        "    return model\n",
        "\n",
        "class RocAucEvaluation(Callback):\n",
        "    def __init__(self, validation_data=(), interval=1):\n",
        "        super(Callback, self).__init__()\n",
        "\n",
        "        self.interval = interval\n",
        "        self.X_val, self.y_val = validation_data\n",
        "\n",
        "    def on_epoch_end(self, epoch, logs={}):\n",
        "        if epoch % self.interval == 0:\n",
        "            y_pred = self.model.predict(self.X_val, verbose=0)\n",
        "            score = roc_auc_score(self.y_val, y_pred)\n",
        "            print(\"\\n ROC-AUC - epoch: %d - score: %.6f \\n\" % (epoch+1, score))"
      ]
    },
    {
      "cell_type": "code",
      "execution_count": 81,
      "id": "c49d9448",
      "metadata": {
        "colab": {
          "base_uri": "https://localhost:8080/"
        },
        "id": "c49d9448",
        "outputId": "b1ba8949-ca34-4ec6-e38f-1d35288cbf5a"
      },
      "outputs": [
        {
          "output_type": "stream",
          "name": "stdout",
          "text": [
            "padding\n",
            "Epoch 1/15\n",
            "43/43 [==============================] - ETA: 0s - loss: 0.6212 - accuracy: 0.6430"
          ]
        },
        {
          "output_type": "stream",
          "name": "stderr",
          "text": [
            "WARNING:tensorflow:Can save best model only with val_acc available, skipping.\n",
            "WARNING:tensorflow:Early stopping conditioned on metric `val_acc` which is not available. Available metrics are: loss,accuracy,val_loss,val_accuracy\n"
          ]
        },
        {
          "output_type": "stream",
          "name": "stdout",
          "text": [
            "\n",
            " ROC-AUC - epoch: 1 - score: 0.782195 \n",
            "\n",
            "\b\b\b\b\b\b\b\b\b\b\b\b\b\b\b\b\b\b\b\b\b\b\b\b\b\b\b\b\b\b\b\b\b\b\b\b\b\b\b\b\b\b\b\b\b\b\b\b\b\b\b\b\b\b\b\b\b\b\b\b\b\b\b\b\b\b\b\b\b\b\b\b\b\b\b\b\b\b\b\b\b\b\r43/43 [==============================] - 25s 497ms/step - loss: 0.6212 - accuracy: 0.6430 - val_loss: 0.5590 - val_accuracy: 0.7059\n",
            "Epoch 2/15\n",
            "43/43 [==============================] - ETA: 0s - loss: 0.5723 - accuracy: 0.6809"
          ]
        },
        {
          "output_type": "stream",
          "name": "stderr",
          "text": [
            "WARNING:tensorflow:Can save best model only with val_acc available, skipping.\n",
            "WARNING:tensorflow:Early stopping conditioned on metric `val_acc` which is not available. Available metrics are: loss,accuracy,val_loss,val_accuracy\n"
          ]
        },
        {
          "output_type": "stream",
          "name": "stdout",
          "text": [
            "\n",
            " ROC-AUC - epoch: 2 - score: 0.816617 \n",
            "\n",
            "\b\b\b\b\b\b\b\b\b\b\b\b\b\b\b\b\b\b\b\b\b\b\b\b\b\b\b\b\b\b\b\b\b\b\b\b\b\b\b\b\b\b\b\b\b\b\b\b\b\b\b\b\b\b\b\b\b\b\b\b\b\b\b\b\b\b\b\b\b\b\b\b\b\b\b\b\b\b\b\b\b\b\r43/43 [==============================] - 19s 434ms/step - loss: 0.5723 - accuracy: 0.6809 - val_loss: 0.5290 - val_accuracy: 0.7382\n",
            "Epoch 3/15\n",
            "43/43 [==============================] - ETA: 0s - loss: 0.5365 - accuracy: 0.7081"
          ]
        },
        {
          "output_type": "stream",
          "name": "stderr",
          "text": [
            "WARNING:tensorflow:Can save best model only with val_acc available, skipping.\n",
            "WARNING:tensorflow:Early stopping conditioned on metric `val_acc` which is not available. Available metrics are: loss,accuracy,val_loss,val_accuracy\n"
          ]
        },
        {
          "output_type": "stream",
          "name": "stdout",
          "text": [
            "\n",
            " ROC-AUC - epoch: 3 - score: 0.825049 \n",
            "\n",
            "\b\b\b\b\b\b\b\b\b\b\b\b\b\b\b\b\b\b\b\b\b\b\b\b\b\b\b\b\b\b\b\b\b\b\b\b\b\b\b\b\b\b\b\b\b\b\b\b\b\b\b\b\b\b\b\b\b\b\b\b\b\b\b\b\b\b\b\b\b\b\b\b\b\b\b\b\b\b\b\b\b\b\r43/43 [==============================] - 19s 438ms/step - loss: 0.5365 - accuracy: 0.7081 - val_loss: 0.4973 - val_accuracy: 0.7456\n",
            "Epoch 4/15\n",
            "43/43 [==============================] - ETA: 0s - loss: 0.5057 - accuracy: 0.7342"
          ]
        },
        {
          "output_type": "stream",
          "name": "stderr",
          "text": [
            "WARNING:tensorflow:Can save best model only with val_acc available, skipping.\n",
            "WARNING:tensorflow:Early stopping conditioned on metric `val_acc` which is not available. Available metrics are: loss,accuracy,val_loss,val_accuracy\n"
          ]
        },
        {
          "output_type": "stream",
          "name": "stdout",
          "text": [
            "\n",
            " ROC-AUC - epoch: 4 - score: 0.850964 \n",
            "\n",
            "\b\b\b\b\b\b\b\b\b\b\b\b\b\b\b\b\b\b\b\b\b\b\b\b\b\b\b\b\b\b\b\b\b\b\b\b\b\b\b\b\b\b\b\b\b\b\b\b\b\b\b\b\b\b\b\b\b\b\b\b\b\b\b\b\b\b\b\b\b\b\b\b\b\b\b\b\b\b\b\b\b\b\r43/43 [==============================] - 20s 476ms/step - loss: 0.5057 - accuracy: 0.7342 - val_loss: 0.4777 - val_accuracy: 0.7765\n",
            "Epoch 5/15\n",
            "43/43 [==============================] - ETA: 0s - loss: 0.4778 - accuracy: 0.7559"
          ]
        },
        {
          "output_type": "stream",
          "name": "stderr",
          "text": [
            "WARNING:tensorflow:Can save best model only with val_acc available, skipping.\n",
            "WARNING:tensorflow:Early stopping conditioned on metric `val_acc` which is not available. Available metrics are: loss,accuracy,val_loss,val_accuracy\n"
          ]
        },
        {
          "output_type": "stream",
          "name": "stdout",
          "text": [
            "\n",
            " ROC-AUC - epoch: 5 - score: 0.857479 \n",
            "\n",
            "\b\b\b\b\b\b\b\b\b\b\b\b\b\b\b\b\b\b\b\b\b\b\b\b\b\b\b\b\b\b\b\b\b\b\b\b\b\b\b\b\b\b\b\b\b\b\b\b\b\b\b\b\b\b\b\b\b\b\b\b\b\b\b\b\b\b\b\b\b\b\b\b\b\b\b\b\b\b\b\b\b\b\r43/43 [==============================] - 20s 462ms/step - loss: 0.4778 - accuracy: 0.7559 - val_loss: 0.4560 - val_accuracy: 0.7956\n",
            "Epoch 6/15\n",
            "43/43 [==============================] - ETA: 0s - loss: 0.4535 - accuracy: 0.7812"
          ]
        },
        {
          "output_type": "stream",
          "name": "stderr",
          "text": [
            "WARNING:tensorflow:Can save best model only with val_acc available, skipping.\n",
            "WARNING:tensorflow:Early stopping conditioned on metric `val_acc` which is not available. Available metrics are: loss,accuracy,val_loss,val_accuracy\n"
          ]
        },
        {
          "output_type": "stream",
          "name": "stdout",
          "text": [
            "\n",
            " ROC-AUC - epoch: 6 - score: 0.869858 \n",
            "\n",
            "\b\b\b\b\b\b\b\b\b\b\b\b\b\b\b\b\b\b\b\b\b\b\b\b\b\b\b\b\b\b\b\b\b\b\b\b\b\b\b\b\b\b\b\b\b\b\b\b\b\b\b\b\b\b\b\b\b\b\b\b\b\b\b\b\b\b\b\b\b\b\b\b\b\b\b\b\b\b\b\b\b\b\r43/43 [==============================] - 20s 462ms/step - loss: 0.4535 - accuracy: 0.7812 - val_loss: 0.4432 - val_accuracy: 0.7926\n",
            "Epoch 7/15\n",
            "43/43 [==============================] - ETA: 0s - loss: 0.4290 - accuracy: 0.8051"
          ]
        },
        {
          "output_type": "stream",
          "name": "stderr",
          "text": [
            "WARNING:tensorflow:Can save best model only with val_acc available, skipping.\n",
            "WARNING:tensorflow:Early stopping conditioned on metric `val_acc` which is not available. Available metrics are: loss,accuracy,val_loss,val_accuracy\n"
          ]
        },
        {
          "output_type": "stream",
          "name": "stdout",
          "text": [
            "\n",
            " ROC-AUC - epoch: 7 - score: 0.875367 \n",
            "\n",
            "\b\b\b\b\b\b\b\b\b\b\b\b\b\b\b\b\b\b\b\b\b\b\b\b\b\b\b\b\b\b\b\b\b\b\b\b\b\b\b\b\b\b\b\b\b\b\b\b\b\b\b\b\b\b\b\b\b\b\b\b\b\b\b\b\b\b\b\b\b\b\b\b\b\b\b\b\b\b\b\b\b\b\r43/43 [==============================] - 19s 436ms/step - loss: 0.4290 - accuracy: 0.8051 - val_loss: 0.4376 - val_accuracy: 0.7897\n",
            "Epoch 8/15\n",
            "43/43 [==============================] - ETA: 0s - loss: 0.4279 - accuracy: 0.7827"
          ]
        },
        {
          "output_type": "stream",
          "name": "stderr",
          "text": [
            "WARNING:tensorflow:Can save best model only with val_acc available, skipping.\n",
            "WARNING:tensorflow:Early stopping conditioned on metric `val_acc` which is not available. Available metrics are: loss,accuracy,val_loss,val_accuracy\n"
          ]
        },
        {
          "output_type": "stream",
          "name": "stdout",
          "text": [
            "\n",
            " ROC-AUC - epoch: 8 - score: 0.877059 \n",
            "\n",
            "\b\b\b\b\b\b\b\b\b\b\b\b\b\b\b\b\b\b\b\b\b\b\b\b\b\b\b\b\b\b\b\b\b\b\b\b\b\b\b\b\b\b\b\b\b\b\b\b\b\b\b\b\b\b\b\b\b\b\b\b\b\b\b\b\b\b\b\b\b\b\b\b\b\b\b\b\b\b\b\b\b\b\r43/43 [==============================] - 19s 449ms/step - loss: 0.4279 - accuracy: 0.7827 - val_loss: 0.4480 - val_accuracy: 0.7706\n",
            "Epoch 9/15\n",
            "43/43 [==============================] - ETA: 0s - loss: 0.3879 - accuracy: 0.8346"
          ]
        },
        {
          "output_type": "stream",
          "name": "stderr",
          "text": [
            "WARNING:tensorflow:Can save best model only with val_acc available, skipping.\n",
            "WARNING:tensorflow:Early stopping conditioned on metric `val_acc` which is not available. Available metrics are: loss,accuracy,val_loss,val_accuracy\n"
          ]
        },
        {
          "output_type": "stream",
          "name": "stdout",
          "text": [
            "\n",
            " ROC-AUC - epoch: 9 - score: 0.877453 \n",
            "\n",
            "\b\b\b\b\b\b\b\b\b\b\b\b\b\b\b\b\b\b\b\b\b\b\b\b\b\b\b\b\b\b\b\b\b\b\b\b\b\b\b\b\b\b\b\b\b\b\b\b\b\b\b\b\b\b\b\b\b\b\b\b\b\b\b\b\b\b\b\b\b\b\b\b\b\b\b\b\b\b\b\b\b\b\r43/43 [==============================] - 20s 457ms/step - loss: 0.3879 - accuracy: 0.8346 - val_loss: 0.4220 - val_accuracy: 0.7926\n",
            "Epoch 10/15\n",
            "43/43 [==============================] - ETA: 0s - loss: 0.3673 - accuracy: 0.8434"
          ]
        },
        {
          "output_type": "stream",
          "name": "stderr",
          "text": [
            "WARNING:tensorflow:Can save best model only with val_acc available, skipping.\n",
            "WARNING:tensorflow:Early stopping conditioned on metric `val_acc` which is not available. Available metrics are: loss,accuracy,val_loss,val_accuracy\n"
          ]
        },
        {
          "output_type": "stream",
          "name": "stdout",
          "text": [
            "\n",
            " ROC-AUC - epoch: 10 - score: 0.882172 \n",
            "\n",
            "\b\b\b\b\b\b\b\b\b\b\b\b\b\b\b\b\b\b\b\b\b\b\b\b\b\b\b\b\b\b\b\b\b\b\b\b\b\b\b\b\b\b\b\b\b\b\b\b\b\b\b\b\b\b\b\b\b\b\b\b\b\b\b\b\b\b\b\b\b\b\b\b\b\b\b\b\b\b\b\b\b\b\r43/43 [==============================] - 19s 434ms/step - loss: 0.3673 - accuracy: 0.8434 - val_loss: 0.4101 - val_accuracy: 0.7853\n",
            "Epoch 11/15\n",
            "43/43 [==============================] - ETA: 0s - loss: 0.3424 - accuracy: 0.8555"
          ]
        },
        {
          "output_type": "stream",
          "name": "stderr",
          "text": [
            "WARNING:tensorflow:Can save best model only with val_acc available, skipping.\n",
            "WARNING:tensorflow:Early stopping conditioned on metric `val_acc` which is not available. Available metrics are: loss,accuracy,val_loss,val_accuracy\n"
          ]
        },
        {
          "output_type": "stream",
          "name": "stdout",
          "text": [
            "\n",
            " ROC-AUC - epoch: 11 - score: 0.881345 \n",
            "\n",
            "\b\b\b\b\b\b\b\b\b\b\b\b\b\b\b\b\b\b\b\b\b\b\b\b\b\b\b\b\b\b\b\b\b\b\b\b\b\b\b\b\b\b\b\b\b\b\b\b\b\b\b\b\b\b\b\b\b\b\b\b\b\b\b\b\b\b\b\b\b\b\b\b\b\b\b\b\b\b\b\b\b\b\r43/43 [==============================] - 18s 429ms/step - loss: 0.3424 - accuracy: 0.8555 - val_loss: 0.4084 - val_accuracy: 0.7824\n",
            "Epoch 12/15\n",
            "43/43 [==============================] - ETA: 0s - loss: 0.3295 - accuracy: 0.8621"
          ]
        },
        {
          "output_type": "stream",
          "name": "stderr",
          "text": [
            "WARNING:tensorflow:Can save best model only with val_acc available, skipping.\n",
            "WARNING:tensorflow:Early stopping conditioned on metric `val_acc` which is not available. Available metrics are: loss,accuracy,val_loss,val_accuracy\n"
          ]
        },
        {
          "output_type": "stream",
          "name": "stdout",
          "text": [
            "\n",
            " ROC-AUC - epoch: 12 - score: 0.877914 \n",
            "\n",
            "\b\b\b\b\b\b\b\b\b\b\b\b\b\b\b\b\b\b\b\b\b\b\b\b\b\b\b\b\b\b\b\b\b\b\b\b\b\b\b\b\b\b\b\b\b\b\b\b\b\b\b\b\b\b\b\b\b\b\b\b\b\b\b\b\b\b\b\b\b\b\b\b\b\b\b\b\b\b\b\b\b\b\r43/43 [==============================] - 18s 431ms/step - loss: 0.3295 - accuracy: 0.8621 - val_loss: 0.4131 - val_accuracy: 0.7882\n",
            "Epoch 13/15\n",
            "43/43 [==============================] - ETA: 0s - loss: 0.3130 - accuracy: 0.8695"
          ]
        },
        {
          "output_type": "stream",
          "name": "stderr",
          "text": [
            "WARNING:tensorflow:Can save best model only with val_acc available, skipping.\n",
            "WARNING:tensorflow:Early stopping conditioned on metric `val_acc` which is not available. Available metrics are: loss,accuracy,val_loss,val_accuracy\n"
          ]
        },
        {
          "output_type": "stream",
          "name": "stdout",
          "text": [
            "\n",
            " ROC-AUC - epoch: 13 - score: 0.884184 \n",
            "\n",
            "\b\b\b\b\b\b\b\b\b\b\b\b\b\b\b\b\b\b\b\b\b\b\b\b\b\b\b\b\b\b\b\b\b\b\b\b\b\b\b\b\b\b\b\b\b\b\b\b\b\b\b\b\b\b\b\b\b\b\b\b\b\b\b\b\b\b\b\b\b\b\b\b\b\b\b\b\b\b\b\b\b\b\r43/43 [==============================] - 20s 457ms/step - loss: 0.3130 - accuracy: 0.8695 - val_loss: 0.4043 - val_accuracy: 0.7882\n",
            "Epoch 14/15\n",
            "43/43 [==============================] - ETA: 0s - loss: 0.2929 - accuracy: 0.8912"
          ]
        },
        {
          "output_type": "stream",
          "name": "stderr",
          "text": [
            "WARNING:tensorflow:Can save best model only with val_acc available, skipping.\n",
            "WARNING:tensorflow:Early stopping conditioned on metric `val_acc` which is not available. Available metrics are: loss,accuracy,val_loss,val_accuracy\n"
          ]
        },
        {
          "output_type": "stream",
          "name": "stdout",
          "text": [
            "\n",
            " ROC-AUC - epoch: 14 - score: 0.884494 \n",
            "\n",
            "\b\b\b\b\b\b\b\b\b\b\b\b\b\b\b\b\b\b\b\b\b\b\b\b\b\b\b\b\b\b\b\b\b\b\b\b\b\b\b\b\b\b\b\b\b\b\b\b\b\b\b\b\b\b\b\b\b\b\b\b\b\b\b\b\b\b\b\b\b\b\b\b\b\b\b\b\b\b\b\b\b\b\r43/43 [==============================] - 19s 437ms/step - loss: 0.2929 - accuracy: 0.8912 - val_loss: 0.4126 - val_accuracy: 0.7897\n",
            "Epoch 15/15\n",
            "43/43 [==============================] - ETA: 0s - loss: 0.2740 - accuracy: 0.8974"
          ]
        },
        {
          "output_type": "stream",
          "name": "stderr",
          "text": [
            "WARNING:tensorflow:Can save best model only with val_acc available, skipping.\n",
            "WARNING:tensorflow:Early stopping conditioned on metric `val_acc` which is not available. Available metrics are: loss,accuracy,val_loss,val_accuracy\n"
          ]
        },
        {
          "output_type": "stream",
          "name": "stdout",
          "text": [
            "\n",
            " ROC-AUC - epoch: 15 - score: 0.882059 \n",
            "\n",
            "43/43 [==============================] - 18s 430ms/step - loss: 0.2740 - accuracy: 0.8974 - val_loss: 0.4349 - val_accuracy: 0.7882\n",
            "22/22 [==============================] - 1s 64ms/step\n",
            "NN OOF accuracy: 0.788235294117647\n"
          ]
        }
      ],
      "source": [
        "\n",
        "X_train, X_valid, Y_train, Y_valid = train_test_split(filtered_data.drop(['Condition'], axis=1), y, test_size = 0.2, random_state =1,stratify=y)\n",
        "raw_text_train = 'Title' + X_train[\"Title\"].astype(str) + ' ' + X_train[\"Description\"]\n",
        "raw_text_valid = 'Title' + X_valid[\"Title\"].astype(str) + ' ' + X_valid[\"Description\"]\n",
        "\n",
        "tk = text.Tokenizer(num_words = max_features, lower = True)\n",
        "tk.fit_on_texts(raw_text_train)\n",
        "X_train[\"text_seq\"] = tk.texts_to_sequences(raw_text_train)\n",
        "X_valid[\"text_seq\"] = tk.texts_to_sequences(raw_text_valid)\n",
        "\n",
        "print('padding')\n",
        "raw_text_train = pad_sequences(X_train.text_seq, maxlen = maxlen)\n",
        "raw_text_test = pad_sequences(X_valid.text_seq, maxlen = maxlen)\n",
        "\n",
        "\n",
        "#file_path = \"/content/best_model.hdf5\"\n",
        "#check_point = ModelCheckpoint(file_path, monitor = \"val_acc\", verbose = 1,\n",
        "#                   save_best_only = True, mode = \"max\")\n",
        "early_stop = EarlyStopping(monitor = \"val_acc\", mode = \"max\", patience = 5)\n",
        "test_flag = X_train[['ex_flag', 'new_flag', 'go_flag']].values\n",
        "body_flag_test = X_valid[['ex_flag', 'new_flag', 'go_flag']].values\n",
        "model = build_model(test_flag,body_flag_test,raw_text_train,Y_train,raw_text_test,Y_valid,early_stop,lr = 1e-3, lr_d = 0, units = 64, dr = 0.2)\n",
        "\n",
        "#model.load_weights(file_path)\n",
        "predictions = model.predict([raw_text_test,body_flag_test]).reshape((raw_text_test.shape[0],))\n",
        "\n",
        "# pred = loaded_model.predict(X_valid, batch_size = 1024, verbose = 1)\n",
        "pred = np.where(predictions>=0.5,1,0)\n",
        "score = pd.DataFrame(pred)\n",
        "# print(Y_valid,score.astype(int))\n",
        "accuracy_val = accuracy_score(Y_valid, score.values)\n",
        "print('NN OOF accuracy: {}'.format(accuracy_val))"
      ]
    },
    {
      "cell_type": "code",
      "execution_count": 85,
      "id": "534b9637",
      "metadata": {
        "colab": {
          "base_uri": "https://localhost:8080/"
        },
        "id": "534b9637",
        "outputId": "df61a954-9e14-4cef-8784-e0b18c5bd950"
      },
      "outputs": [
        {
          "output_type": "stream",
          "name": "stdout",
          "text": [
            "22/22 [==============================] - 1s 65ms/step\n",
            "NN OOF accuracy: 0.788235294117647\n"
          ]
        }
      ],
      "source": [
        "#model = load_model(file_path)\n",
        "#model.load_weights(file_path)\n",
        "predictions = model.predict([raw_text_test,body_flag_test]).reshape((raw_text_test.shape[0],))\n",
        "\n",
        "# pred = loaded_model.predict(X_valid, batch_size = 1024, verbose = 1)\n",
        "pred = np.where(predictions>=0.5,1,0)\n",
        "score = pd.DataFrame(pred)\n",
        "# print(Y_valid,score.astype(int))\n",
        "accuracy_val = accuracy_score(Y_valid, score.values)\n",
        "print('NN OOF accuracy: {}'.format(accuracy_val))"
      ]
    }
  ],
  "metadata": {
    "kernelspec": {
      "display_name": "Python 3 (ipykernel)",
      "language": "python",
      "name": "python3"
    },
    "language_info": {
      "codemirror_mode": {
        "name": "ipython",
        "version": 3
      },
      "file_extension": ".py",
      "mimetype": "text/x-python",
      "name": "python",
      "nbconvert_exporter": "python",
      "pygments_lexer": "ipython3",
      "version": "3.9.12"
    },
    "colab": {
      "provenance": []
    }
  },
  "nbformat": 4,
  "nbformat_minor": 5
}